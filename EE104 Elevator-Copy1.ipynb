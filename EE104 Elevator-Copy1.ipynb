{
 "cells": [
  {
   "cell_type": "code",
   "execution_count": null,
   "id": "947b6c35",
   "metadata": {},
   "outputs": [],
   "source": [
    "#Block 1: Imported Libraries\n",
    "from pynq import Overlay\n",
    "ps_gpio_design = Overlay(\"./ps_gpio/ps_gpio_kv260.bit\")\n",
    "from pynq import GPIO\n",
    "from time import sleep"
   ]
  },
  {
   "cell_type": "code",
   "execution_count": null,
   "id": "ac460ec6",
   "metadata": {},
   "outputs": [],
   "source": [
    "#Block 2: Board I/O Assignments\n"
   ]
  },
  {
   "cell_type": "code",
   "execution_count": null,
   "id": "5233b066",
   "metadata": {},
   "outputs": [],
   "source": [
    "#Block 3: Internal Variables for elevator\n",
    "#going_X tells the elevator to keep going in the one direction and finish all current calls before going opposite\n",
    "going_Up = False\n",
    "going_Down = False\n",
    "\n",
    "#Position variable details:\n",
    "#First floor: 100\n",
    "#Second floor: 200\n",
    "#Third floor: 300\n",
    "#Fourth floor: 400\n",
    "position = 100\n",
    "\n",
    "#next_floor variable is to tell the elevator whether to slow down or not. Determined in the next block\n",
    "next_floor = False\n",
    "\n",
    "#fsm_state holds the current state of the fsm. Default state = IDLE\n",
    "fsm_state = IDLE"
   ]
  },
  {
   "cell_type": "code",
   "execution_count": null,
   "id": "bf4dd7fb",
   "metadata": {},
   "outputs": [],
   "source": [
    "#Block 4: #Next Floor Check funct.\n",
    "#Goal of this is to see whether or not to slow down based on the call list.\n",
    "def next_floor_check(a):  \n",
    "    #return next_floor\n",
    "    #\n",
    "    pass"
   ]
  },
  {
   "cell_type": "code",
   "execution_count": null,
   "id": "7934b871",
   "metadata": {},
   "outputs": [],
   "source": [
    "#Block 5: 7_Segment_Display\n"
   ]
  },
  {
   "cell_type": "code",
   "execution_count": null,
   "id": "8f55d3ff",
   "metadata": {},
   "outputs": [],
   "source": [
    "#Block N: Cases\n",
    "while(1)\n",
    "    match fsm_state:\n",
    "        case IDLE: #on wait for any calls.\n",
    "            \n",
    "        case UP:\n",
    "            fsm_state = SLOW_UP\n",
    "            \n",
    "        case SLOW_UP:\n",
    "            #Increments position by 20. If next floor flag is raised (Checked in FAST_UP so only occurs after an 60 increase),\n",
    "            #the elevator will stop.\n",
    "            position += 20\n",
    "            if next_floor == True:\n",
    "                fsm_state = STOP\n",
    "            else:\n",
    "                fsm_state = FAST_UP\n",
    "        case FAST_UP:\n",
    "            #increments position by 60. The elevator then checks whether the next floor is the stop.\n",
    "            #If next floor isn't the stop, it increments by 40 then re-checks the FAST_UP state.\n",
    "            while (1)\n",
    "                position += 60\n",
    "                next_floor_check(upcallsequence)\n",
    "                if not next_floor:\n",
    "                    position +=40\n",
    "                else:\n",
    "                    break\n",
    "            fsm_state = SLOW_UP\n",
    "        \n",
    "        case DOWN:\n",
    "            fsm_state = SLOW_DOWN\n",
    "            \n",
    "        case SLOW_DOWN:\n",
    "            #Decrements position by 20. If next floor flag is raised (Checked in FAST_DOWN so only occurs after a 60 decrease),\n",
    "            #the elevator will stop.\n",
    "            position -= 20\n",
    "            if next_floor == True:\n",
    "                fsm_state = STOP\n",
    "            else:\n",
    "                fsm_state = FAST_DOWN\n",
    "        case FAST_DOWN:\n",
    "            #decrements position by 60. The elevator then checks whether the next floor is the stop.\n",
    "            #If next floor isn't the stop, it decrements by 40 then re-checks the FAST_DOWN state.\n",
    "            while (1)\n",
    "                position -= 60\n",
    "                next_floor_check(downcallsequence)\n",
    "                if not next_floor:\n",
    "                    position -=40\n",
    "                else:\n",
    "                    break\n",
    "            \n",
    "        case STOP:\n",
    "            sleep(1)\n",
    "            fsm_state = DOOR_SEQUENCE\n",
    "            \n",
    "        case DOOR_SEQUENCE:\n",
    "            #Opens door, holds minimum time, closes door. Clears next_floor flag\n",
    "            #Checks whether there are more in the same direction. If yes, keep going in same direction.\n",
    "            #If no, go to case IDLE.\n",
    "            \n",
    "        case SOS:\n",
    "            #Clears all incoming queued calls and sends the elevator straight down to first floor. "
   ]
  }
 ],
 "metadata": {
  "kernelspec": {
   "display_name": "Python 3 (ipykernel)",
   "language": "python",
   "name": "python3"
  },
  "language_info": {
   "codemirror_mode": {
    "name": "ipython",
    "version": 3
   },
   "file_extension": ".py",
   "mimetype": "text/x-python",
   "name": "python",
   "nbconvert_exporter": "python",
   "pygments_lexer": "ipython3",
   "version": "3.9.12"
  }
 },
 "nbformat": 4,
 "nbformat_minor": 5
}
