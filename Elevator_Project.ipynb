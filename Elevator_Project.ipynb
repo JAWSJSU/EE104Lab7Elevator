{
 "cells": [
  {
   "cell_type": "code",
   "execution_count": 1,
   "id": "12ea01cd",
   "metadata": {
    "scrolled": true
   },
   "outputs": [
    {
     "name": "stderr",
     "output_type": "stream",
     "text": [
      "/usr/local/share/pynq-venv/lib/python3.8/site-packages/pynq/pl_server/xrt_device.py:59: UserWarning: xbutil failed to run - unable to determine XRT version\n",
      "  warnings.warn(\"xbutil failed to run - unable to determine XRT version\")\n"
     ]
    },
    {
     "data": {
      "application/javascript": [
       "\n",
       "try {\n",
       "require(['notebook/js/codecell'], function(codecell) {\n",
       "  codecell.CodeCell.options_default.highlight_modes[\n",
       "      'magic_text/x-csrc'] = {'reg':[/^%%microblaze/]};\n",
       "  Jupyter.notebook.events.one('kernel_ready.Kernel', function(){\n",
       "      Jupyter.notebook.get_cells().map(function(cell){\n",
       "          if (cell.cell_type == 'code'){ cell.auto_highlight(); } }) ;\n",
       "  });\n",
       "});\n",
       "} catch (e) {};\n"
      ]
     },
     "metadata": {},
     "output_type": "display_data"
    },
    {
     "data": {
      "application/javascript": [
       "\n",
       "try {\n",
       "require(['notebook/js/codecell'], function(codecell) {\n",
       "  codecell.CodeCell.options_default.highlight_modes[\n",
       "      'magic_text/x-csrc'] = {'reg':[/^%%pybind11/]};\n",
       "  Jupyter.notebook.events.one('kernel_ready.Kernel', function(){\n",
       "      Jupyter.notebook.get_cells().map(function(cell){\n",
       "          if (cell.cell_type == 'code'){ cell.auto_highlight(); } }) ;\n",
       "  });\n",
       "});\n",
       "} catch (e) {};\n"
      ]
     },
     "metadata": {},
     "output_type": "display_data"
    }
   ],
   "source": [
    "from pynq import Overlay\n",
    "ps_gpio_design = Overlay(\"./ps_gpio_kv260.bit\")"
   ]
  },
  {
   "cell_type": "code",
   "execution_count": 2,
   "id": "f192197f",
   "metadata": {},
   "outputs": [],
   "source": [
    "from pynq import GPIO\n",
    "from time import sleep"
   ]
  },
  {
   "cell_type": "code",
   "execution_count": 14,
   "id": "5f187531",
   "metadata": {},
   "outputs": [],
   "source": [
    "\n",
    "\n",
    "Floor_disp_bit1 = GPIO(GPIO.get_gpio_pin(2), 'out')\n",
    "Floor_disp_bit2 = GPIO(GPIO.get_gpio_pin(3), 'out')\n",
    "\n",
    "\n",
    "dir_disp = GPIO(GPIO.get_gpio_pin(1), 'out')\n",
    "speed_disp = GPIO(GPIO.get_gpio_pin(0), 'out')\n",
    "stop_disp = GPIO(GPIO.get_gpio_pin(7), 'out')\n",
    "\n",
    "\n",
    "\n",
    "Floor_request_bit1 =     GPIO(GPIO.get_gpio_pin(4), 'in')\n",
    "Floor_request_bit2 =     GPIO(GPIO.get_gpio_pin(5), 'in')\n",
    "Floor_request_bit3 =     GPIO(GPIO.get_gpio_pin(6), 'in')\n",
    "\n",
    "\n",
    "up_call_request = [0,0,0,0]\n",
    "down_call_request = [0,0,0,0]\n",
    "\n",
    "\n",
    "floor_pos = 0 \n",
    "rate = 0\n",
    "\n",
    "slow = 2\n",
    "fast = 4\n",
    "\n"
   ]
  },
  {
   "cell_type": "code",
   "execution_count": 4,
   "id": "84368703",
   "metadata": {},
   "outputs": [],
   "source": [
    "#led.write(1)"
   ]
  },
  {
   "cell_type": "code",
   "execution_count": 15,
   "id": "ce014529",
   "metadata": {},
   "outputs": [],
   "source": [
    "Floor_disp_bit1.write(1)\n",
    "sleep(2)\n",
    "Floor_disp_bit1.write(0)"
   ]
  },
  {
   "cell_type": "code",
   "execution_count": 16,
   "id": "be8bde4b",
   "metadata": {},
   "outputs": [],
   "source": [
    "Floor_disp_bit2.write(1)\n",
    "sleep(2)\n",
    "Floor_disp_bit2.write(0)"
   ]
  },
  {
   "cell_type": "code",
   "execution_count": 18,
   "id": "8b6fb369",
   "metadata": {},
   "outputs": [],
   "source": [
    "speed_disp.write(1) #Led on means going fast, Led off means going slow\n",
    "sleep(2)\n",
    "speed_disp.write(0)"
   ]
  },
  {
   "cell_type": "code",
   "execution_count": 19,
   "id": "51e6e991",
   "metadata": {},
   "outputs": [],
   "source": [
    "stop_disp.write(1) #Led on means the elevator stop, off means its moving \n",
    "sleep(2)\n",
    "stop_disp.write(0)"
   ]
  },
  {
   "cell_type": "code",
   "execution_count": 20,
   "id": "b31e937a",
   "metadata": {},
   "outputs": [],
   "source": [
    "dir_disp.write(1) #Led on means going up off means down \n",
    "sleep(2)\n",
    "dir_disp.write(0)"
   ]
  },
  {
   "cell_type": "code",
   "execution_count": 21,
   "id": "3307eb16",
   "metadata": {},
   "outputs": [
    {
     "name": "stdout",
     "output_type": "stream",
     "text": [
      "0 0 0\n",
      "0 0 0\n",
      "0 1 0\n",
      "0 1 0\n",
      "0 1 0\n",
      "0 1 0\n",
      "0 1 0\n",
      "0 0 1\n",
      "0 0 1\n",
      "0 0 1\n",
      "0 0 1\n",
      "0 0 0\n",
      "0 0 0\n",
      "1 0 0\n",
      "1 0 0\n",
      "1 0 0\n",
      "1 0 0\n",
      "1 0 0\n",
      "1 0 0\n",
      "1 0 0\n",
      "0 0 0\n",
      "0 1 1\n",
      "0 1 1\n",
      "0 1 1\n",
      "0 0 0\n",
      "0 0 0\n",
      "0 0 0\n",
      "0 0 0\n",
      "0 0 0\n",
      "0 0 0\n",
      "1 0 1\n",
      "1 0 1\n",
      "1 0 1\n",
      "1 0 1\n",
      "1 0 1\n",
      "1 0 1\n",
      "1 0 1\n",
      "1 0 1\n",
      "1 0 1\n",
      "0 0 0\n",
      "0 0 0\n",
      "0 0 0\n"
     ]
    },
    {
     "ename": "KeyboardInterrupt",
     "evalue": "",
     "output_type": "error",
     "traceback": [
      "\u001b[0;31m---------------------------------------------------------------------------\u001b[0m",
      "\u001b[0;31mKeyboardInterrupt\u001b[0m                         Traceback (most recent call last)",
      "\u001b[0;32m<ipython-input-21-a6b737839c66>\u001b[0m in \u001b[0;36m<module>\u001b[0;34m\u001b[0m\n\u001b[1;32m      1\u001b[0m \u001b[0;32mwhile\u001b[0m\u001b[0;34m(\u001b[0m\u001b[0;32mTrue\u001b[0m\u001b[0;34m)\u001b[0m\u001b[0;34m:\u001b[0m\u001b[0;34m\u001b[0m\u001b[0;34m\u001b[0m\u001b[0m\n\u001b[1;32m      2\u001b[0m     \u001b[0mprint\u001b[0m\u001b[0;34m(\u001b[0m\u001b[0mFloor_request_bit3\u001b[0m\u001b[0;34m.\u001b[0m\u001b[0mread\u001b[0m\u001b[0;34m(\u001b[0m\u001b[0;34m)\u001b[0m\u001b[0;34m,\u001b[0m \u001b[0mFloor_request_bit2\u001b[0m\u001b[0;34m.\u001b[0m\u001b[0mread\u001b[0m\u001b[0;34m(\u001b[0m\u001b[0;34m)\u001b[0m\u001b[0;34m,\u001b[0m \u001b[0mFloor_request_bit1\u001b[0m\u001b[0;34m.\u001b[0m\u001b[0mread\u001b[0m\u001b[0;34m(\u001b[0m\u001b[0;34m)\u001b[0m\u001b[0;34m)\u001b[0m\u001b[0;34m\u001b[0m\u001b[0;34m\u001b[0m\u001b[0m\n\u001b[0;32m----> 3\u001b[0;31m     \u001b[0msleep\u001b[0m\u001b[0;34m(\u001b[0m\u001b[0;36m.5\u001b[0m\u001b[0;34m)\u001b[0m\u001b[0;34m\u001b[0m\u001b[0;34m\u001b[0m\u001b[0m\n\u001b[0m",
      "\u001b[0;31mKeyboardInterrupt\u001b[0m: "
     ]
    }
   ],
   "source": [
    "while(True):\n",
    "    print(Floor_request_bit3.read(), Floor_request_bit2.read(), Floor_request_bit1.read())\n",
    "    sleep(.5)"
   ]
  },
  {
   "cell_type": "code",
   "execution_count": 22,
   "id": "c891f7e6",
   "metadata": {
    "scrolled": true
   },
   "outputs": [
    {
     "name": "stdout",
     "output_type": "stream",
     "text": [
      "Floor 1\n",
      "Floor 1\n",
      "Floor 3\n",
      "Floor 2\n",
      "Floor 4\n",
      "SoS\n"
     ]
    }
   ],
   "source": [
    "while(True):\n",
    "    bit = ( str(Floor_request_bit3.read()) +  str(Floor_request_bit2.read()) + str(Floor_request_bit1.read()) )\n",
    "    if(bit == \"001\"):\n",
    "        print(\"Floor 1\")\n",
    "    elif(bit == \"010\"):\n",
    "        print(\"Floor 2\")\n",
    "    elif(bit == \"011\"):\n",
    "        print(\"Floor 3\")\n",
    "    elif(bit == \"100\"):\n",
    "        print(\"Floor 4\")\n",
    "    elif(bit == \"101\"):\n",
    "        print(\"SoS\")\n",
    "        break\n",
    "    sleep(1)"
   ]
  },
  {
   "cell_type": "code",
   "execution_count": null,
   "id": "32c148f2",
   "metadata": {},
   "outputs": [],
   "source": []
  },
  {
   "cell_type": "code",
   "execution_count": 23,
   "id": "75891306",
   "metadata": {},
   "outputs": [],
   "source": [
    "def set_reg(num):\n",
    "    if (check_floor_pos() > num):\n",
    "        down_call_request[num-1] = 1 \n",
    "    elif (check_floor_pos() < num):\n",
    "        up_call_request[num-1] = 1"
   ]
  },
  {
   "cell_type": "code",
   "execution_count": 24,
   "id": "38099f06",
   "metadata": {},
   "outputs": [],
   "source": [
    "def button_press():\n",
    "    bit = ( str(Floor_request_bit3.read()) +  str(Floor_request_bit2.read()) + str(Floor_request_bit1.read()) )\n",
    "    if(bit == \"001\"):\n",
    "        set_reg(1)\n",
    "        print(\"Floor 1\")\n",
    "    elif(bit == \"010\"):\n",
    "        set_reg(2)\n",
    "        print(\"Floor 2\")\n",
    "    elif(bit == \"011\"):\n",
    "        set_reg(3)\n",
    "        print(\"Floor 3\")\n",
    "    elif(bit == \"100\"):\n",
    "        set_reg(4)\n",
    "        print(\"Floor 4\")\n",
    "    elif(bit == \"101\"):\n",
    "        print(\"SoS\")\n",
    "        set_reg(1)\n",
    "        clear_floor_request(up_call_request,2)\n",
    "        clear_floor_request(up_call_request,3)\n",
    "        clear_floor_request(up_call_request,4)\n",
    "        clear_floor_request(down_call_request,2)\n",
    "        clear_floor_request(down_call_request,3)\n",
    "        clear_floor_request(down_call_request,4)\n",
    "    sleep(1)"
   ]
  },
  {
   "cell_type": "code",
   "execution_count": 25,
   "id": "6e0211ba",
   "metadata": {},
   "outputs": [],
   "source": [
    "def check_floor_pos():\n",
    "    if(0<=floor_pos<10):\n",
    "        Floor_disp_bit1.write(0)\n",
    "        Floor_disp_bit2.write(0)\n",
    "        return 1\n",
    "    if(10<=floor_pos<20):\n",
    "        Floor_disp_bit1.write(1)\n",
    "        Floor_disp_bit2.write(0)\n",
    "        return 2\n",
    "    if(20<=floor_pos<30):\n",
    "        Floor_disp_bit1.write(0)\n",
    "        Floor_disp_bit2.write(1)\n",
    "        return 3\n",
    "    elif(30<=floor_pos<40):\n",
    "        Floor_disp_bit1.write(1)\n",
    "        Floor_disp_bit2.write(1)\n",
    "        return 4\n",
    "def safe_floor_pos():\n",
    "    if(-2< floor_pos < 2 ):\n",
    "        return True\n",
    "    if(8 < floor_pos < 12):\n",
    "        return True\n",
    "    if(18 < floor_pos < 22 ):\n",
    "        return True\n",
    "    elif(28 < floor_pos < 32 ):\n",
    "        return True\n",
    "\n",
    "def next_floor_request(nex,call_request):\n",
    "    return(call_request[nex-1] == 1)\n",
    "\n",
    "def call_check(arr):\n",
    "    return (1 in arr)\n",
    "\n",
    "def clear_floor_request(arr,pos):\n",
    "    arr[pos-1] = 0\n",
    "\n",
    "def close_door():\n",
    "    print(\"Door is close\")\n",
    "def open_door():\n",
    "    print(\"Door is open\")\n",
    "\n",
    "\n",
    "\n"
   ]
  },
  {
   "cell_type": "code",
   "execution_count": 11,
   "id": "a3db5fb1",
   "metadata": {},
   "outputs": [
    {
     "name": "stdout",
     "output_type": "stream",
     "text": [
      "True\n"
     ]
    }
   ],
   "source": [
    "print(call_check([0,0,1,0]))"
   ]
  },
  {
   "cell_type": "code",
   "execution_count": 26,
   "id": "205f0400",
   "metadata": {},
   "outputs": [],
   "source": [
    "def floor_stop(arr,pos):\n",
    "    print(\"Stop on Floor: \", str(pos))\n",
    "    floor_pos = (pos-1)*10\n",
    "    \n",
    "    stop_disp.write(1)\n",
    "    sleep(1)\n",
    "    open_door()\n",
    "    sleep(4)\n",
    "    close_door()\n",
    "    sleep(1)\n",
    "    rate = 0\n",
    "    clear_floor_request(arr,pos)\n"
   ]
  },
  {
   "cell_type": "code",
   "execution_count": 25,
   "id": "8a59562a",
   "metadata": {},
   "outputs": [],
   "source": [
    "up_call_request = [0,0,0,0]\n",
    "down_call_request = [0,0,0,0]\n",
    "floor_pos = 0\n",
    "rate = 0\n",
    "check_floor_pos()\n",
    "dir_disp.write(0)"
   ]
  },
  {
   "cell_type": "code",
   "execution_count": 27,
   "id": "f682e320",
   "metadata": {
    "scrolled": true
   },
   "outputs": [
    {
     "name": "stdout",
     "output_type": "stream",
     "text": [
      "Floor 4\n",
      "Current Floor: 1 Rate going up: 0\n",
      "Current Floor: 1 Rate going up: 4\n",
      "Current Floor: 1 Rate going up: 4\n",
      "Current Floor: 2 Rate going up: 4\n",
      "Floor 2\n",
      "Current Floor: 2 Rate going up: 4\n",
      "Current Floor: 3 Rate going up: 4\n",
      "Current Floor: 3 Rate going up: 2\n",
      "Current Floor: 3 Rate going up: 2\n",
      "Current Floor: 3 Rate going up: 2\n",
      "Current Floor: 3 Rate going up: 2\n",
      "Stop on Floor:  4\n",
      "Door is open\n",
      "Door is close\n",
      "Idle on  4\n",
      "Floor 2\n",
      "Current Floor: 4 Rate going down: 0\n",
      "Current Floor: 3 Rate going down: -4\n",
      "Current Floor: 3 Rate going down: -2\n",
      "Current Floor: 3 Rate going down: -2\n",
      "Current Floor: 3 Rate going down: -2\n",
      "Current Floor: 2 Rate going down: -2\n",
      "Current Floor: 2 Rate going down: -4\n",
      "Stop on Floor:  2\n",
      "Door is open\n",
      "Door is close\n",
      "Idle on  2\n",
      "Floor 4\n",
      "Current Floor: 2 Rate going up: 0\n",
      "Current Floor: 2 Rate going up: 4\n",
      "Current Floor: 2 Rate going up: 4\n",
      "Current Floor: 3 Rate going up: 4\n",
      "Current Floor: 3 Rate going up: 2\n",
      "Current Floor: 3 Rate going up: 2\n",
      "Floor 3\n",
      "Current Floor: 3 Rate going up: 2\n",
      "Stop on Floor:  4\n",
      "Door is open\n",
      "Door is close\n",
      "Idle on  4\n",
      "Floor 3\n",
      "Current Floor: 4 Rate going down: 0\n",
      "Floor 1\n",
      "Current Floor: 3 Rate going down: -2\n",
      "Current Floor: 3 Rate going down: -4\n",
      "Stop on Floor:  3\n",
      "Door is open\n",
      "Door is close\n",
      "Idle on  3\n",
      "Current Floor: 3 Rate going down: 0\n",
      "Current Floor: 2 Rate going down: -4\n",
      "Current Floor: 2 Rate going down: -2\n",
      "Current Floor: 2 Rate going down: -2\n",
      "Current Floor: 2 Rate going down: -2\n",
      "Current Floor: 1 Rate going down: -2\n",
      "Current Floor: 1 Rate going down: -4\n",
      "Stop on Floor:  1\n",
      "Door is open\n",
      "Door is close\n",
      "Idle on  1\n",
      "Floor 3\n",
      "Current Floor: 1 Rate going up: 0\n",
      "Floor 4\n",
      "Current Floor: 1 Rate going up: 4\n",
      "Current Floor: 1 Rate going up: 4\n",
      "Current Floor: 2 Rate going up: 4\n",
      "Current Floor: 2 Rate going up: 2\n",
      "Current Floor: 2 Rate going up: 2\n",
      "Current Floor: 2 Rate going up: 2\n",
      "Stop on Floor:  3\n",
      "Door is open\n",
      "Door is close\n",
      "Idle on  3\n",
      "Floor 2\n",
      "Current Floor: 3 Rate going up: 0\n",
      "Current Floor: 3 Rate going up: 2\n",
      "Current Floor: 3 Rate going up: 2\n",
      "Current Floor: 3 Rate going up: 2\n",
      "Current Floor: 3 Rate going up: 2\n",
      "Stop on Floor:  4\n",
      "Door is open\n",
      "Door is close\n",
      "Idle on  4\n",
      "Current Floor: 4 Rate going down: 0\n",
      "Current Floor: 3 Rate going down: -4\n",
      "Current Floor: 3 Rate going down: -2\n",
      "Current Floor: 3 Rate going down: -2\n",
      "Current Floor: 3 Rate going down: -2\n",
      "Current Floor: 2 Rate going down: -2\n",
      "Current Floor: 2 Rate going down: -4\n",
      "Stop on Floor:  2\n",
      "Door is open\n",
      "Door is close\n",
      "Idle on  2\n",
      "SoS\n",
      "SoS\n",
      "Current Floor: 2 Rate going down: 0\n",
      "Current Floor: 1 Rate going down: -2\n",
      "Current Floor: 1 Rate going down: -4\n",
      "Stop on Floor:  1\n",
      "Door is open\n",
      "Door is close\n",
      "Idle on  1\n",
      "Floor 3\n",
      "Floor 3\n",
      "Current Floor: 1 Rate going up: 0\n",
      "Floor 4\n",
      "Current Floor: 1 Rate going up: 4\n",
      "Current Floor: 1 Rate going up: 4\n",
      "SoS\n",
      "Current Floor: 2 Rate going up: 4\n",
      "Current Floor: 2 Rate going down: 4\n",
      "Current Floor: 2 Rate going down: -2\n",
      "Current Floor: 2 Rate going down: -2\n",
      "Current Floor: 2 Rate going down: -2\n",
      "Current Floor: 1 Rate going down: -2\n",
      "Current Floor: 1 Rate going down: -4\n",
      "Stop on Floor:  1\n",
      "Door is open\n",
      "Door is close\n",
      "Idle on  1\n"
     ]
    },
    {
     "ename": "KeyboardInterrupt",
     "evalue": "",
     "output_type": "error",
     "traceback": [
      "\u001b[0;31m---------------------------------------------------------------------------\u001b[0m",
      "\u001b[0;31mKeyboardInterrupt\u001b[0m                         Traceback (most recent call last)",
      "\u001b[0;32m<ipython-input-27-4c1519842618>\u001b[0m in \u001b[0;36m<module>\u001b[0;34m\u001b[0m\n\u001b[1;32m      3\u001b[0m \u001b[0;31m#idle state\u001b[0m\u001b[0;34m\u001b[0m\u001b[0;34m\u001b[0m\u001b[0;34m\u001b[0m\u001b[0m\n\u001b[1;32m      4\u001b[0m     \u001b[0mdir_disp\u001b[0m\u001b[0;34m.\u001b[0m\u001b[0mwrite\u001b[0m\u001b[0;34m(\u001b[0m\u001b[0;36m0\u001b[0m\u001b[0;34m)\u001b[0m\u001b[0;34m\u001b[0m\u001b[0;34m\u001b[0m\u001b[0m\n\u001b[0;32m----> 5\u001b[0;31m     \u001b[0mbutton_press\u001b[0m\u001b[0;34m(\u001b[0m\u001b[0;34m)\u001b[0m\u001b[0;34m\u001b[0m\u001b[0;34m\u001b[0m\u001b[0m\n\u001b[0m\u001b[1;32m      6\u001b[0m \u001b[0;34m\u001b[0m\u001b[0m\n\u001b[1;32m      7\u001b[0m \u001b[0;34m\u001b[0m\u001b[0m\n",
      "\u001b[0;32m<ipython-input-24-ce5c40afa549>\u001b[0m in \u001b[0;36mbutton_press\u001b[0;34m()\u001b[0m\n\u001b[1;32m     22\u001b[0m         \u001b[0mclear_floor_request\u001b[0m\u001b[0;34m(\u001b[0m\u001b[0mdown_call_request\u001b[0m\u001b[0;34m,\u001b[0m\u001b[0;36m3\u001b[0m\u001b[0;34m)\u001b[0m\u001b[0;34m\u001b[0m\u001b[0;34m\u001b[0m\u001b[0m\n\u001b[1;32m     23\u001b[0m         \u001b[0mclear_floor_request\u001b[0m\u001b[0;34m(\u001b[0m\u001b[0mdown_call_request\u001b[0m\u001b[0;34m,\u001b[0m\u001b[0;36m4\u001b[0m\u001b[0;34m)\u001b[0m\u001b[0;34m\u001b[0m\u001b[0;34m\u001b[0m\u001b[0m\n\u001b[0;32m---> 24\u001b[0;31m     \u001b[0msleep\u001b[0m\u001b[0;34m(\u001b[0m\u001b[0;36m1\u001b[0m\u001b[0;34m)\u001b[0m\u001b[0;34m\u001b[0m\u001b[0;34m\u001b[0m\u001b[0m\n\u001b[0m",
      "\u001b[0;31mKeyboardInterrupt\u001b[0m: "
     ]
    }
   ],
   "source": [
    "#State Machine\n",
    "while(True):\n",
    "#idle state\n",
    "    dir_disp.write(0)\n",
    "    button_press()\n",
    "\n",
    "\n",
    "    while(call_check(up_call_request)): #up state\n",
    "        \n",
    "        stop_disp.write(0)\n",
    "        dir_disp.write(1)\n",
    "        button_press()\n",
    "        \n",
    "        \n",
    "        print(\"Current Floor: \"+ str(check_floor_pos()) + \" Rate going up: \" + str(rate)) \n",
    "       \n",
    "        nex = check_floor_pos() + 1\n",
    "    \n",
    "    \n",
    "        #speed control\n",
    "        if(next_floor_request(nex,up_call_request)):\n",
    "            speed_disp.write(0)\n",
    "            rate = slow \n",
    "            sleep(1)\n",
    "        elif not (next_floor_request(nex,up_call_request)):\n",
    "            sleep(1)\n",
    "            speed_disp.write(1)\n",
    "            rate = fast    \n",
    "            \n",
    "        floor_pos = floor_pos + rate\n",
    "        \n",
    "        #check if there's a floor\n",
    "        if((up_call_request[check_floor_pos()-1] == 1) and safe_floor_pos()):\n",
    "            speed_disp.write(0)\n",
    "            rate = 0 \n",
    "            floor_stop(up_call_request, check_floor_pos())\n",
    "            print(\"Idle on \", check_floor_pos())\n",
    "    \n",
    "    \n",
    "    while(call_check(down_call_request)): #checks for floor calls in down state\n",
    "        \n",
    "        stop_disp.write(0)\n",
    "        dir_disp.write(0)\n",
    "        button_press()#checks if a button is press\n",
    "        \n",
    "        print(\"Current Floor: \"+ str(check_floor_pos()) + \" Rate going down: \" + str(rate)) \n",
    "        nex = check_floor_pos() - 1\n",
    "    \n",
    "    \n",
    "        #speed control\n",
    "        if(next_floor_request(nex,down_call_request)):\n",
    "            speed_disp.write(0)\n",
    "            rate = -slow \n",
    "            sleep(1)\n",
    "        elif not (next_floor_request(nex,down_call_request)):\n",
    "            sleep(1)\n",
    "            speed_disp.write(1)\n",
    "            rate = -fast\n",
    "        floor_pos = floor_pos + rate\n",
    "        \n",
    "        #check if there's a floor_request at the given floor\n",
    "        if((down_call_request[check_floor_pos()-1] == 1) and safe_floor_pos()):\n",
    "            speed_disp.write(0)\n",
    "            rate = 0 \n",
    "            floor_stop(down_call_request, check_floor_pos())\n",
    "            print(\"Idle on \", check_floor_pos())\n",
    "         \n",
    "\n",
    "        \n",
    "            \n",
    "\n",
    "    \n",
    "    \n",
    "    \n"
   ]
  },
  {
   "cell_type": "code",
   "execution_count": null,
   "id": "5df95522",
   "metadata": {},
   "outputs": [],
   "source": []
  },
  {
   "cell_type": "code",
   "execution_count": null,
   "id": "8acabe6f",
   "metadata": {},
   "outputs": [],
   "source": []
  }
 ],
 "metadata": {
  "kernelspec": {
   "display_name": "Python 3",
   "language": "python",
   "name": "python3"
  },
  "language_info": {
   "codemirror_mode": {
    "name": "ipython",
    "version": 3
   },
   "file_extension": ".py",
   "mimetype": "text/x-python",
   "name": "python",
   "nbconvert_exporter": "python",
   "pygments_lexer": "ipython3",
   "version": "3.8.10"
  }
 },
 "nbformat": 4,
 "nbformat_minor": 5
}
